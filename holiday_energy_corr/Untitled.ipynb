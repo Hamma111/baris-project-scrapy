{
 "cells": [
  {
   "cell_type": "code",
   "execution_count": 52,
   "id": "lonely-mustang",
   "metadata": {},
   "outputs": [],
   "source": [
    "import pandas as pd\n",
    "import numpy as np\n",
    "import os\n",
    "from datetime import datetime\n",
    "import matplotlib.pyplot as plt"
   ]
  },
  {
   "cell_type": "code",
   "execution_count": 2,
   "id": "macro-louisville",
   "metadata": {},
   "outputs": [],
   "source": [
    "# df = pd.read_excel(\"Example File.xlsx\")\n",
    "# df.Date = pd.to_datetime(df.Date)  # converting date into\n",
    "df1 = pd.read_excel(\"holidays.xlsx\")"
   ]
  },
  {
   "cell_type": "code",
   "execution_count": 3,
   "id": "equal-distinction",
   "metadata": {},
   "outputs": [],
   "source": [
    "df = pd.read_excel(\"final_merged.xlsx\")"
   ]
  },
  {
   "cell_type": "code",
   "execution_count": 838,
   "id": "aerial-mistake",
   "metadata": {
    "scrolled": false
   },
   "outputs": [
    {
     "data": {
      "text/plain": [
       "array([nan, 'State Holiday', 'Restricted Trading Day', 'Observance',\n",
       "       'State Public Sector Holiday', 'Half Day Restricted Trading Day',\n",
       "       'State Bank Holiday', 'Part Day Holiday', 'Public Holiday',\n",
       "       'Season', 'National holiday', 'Half day holiday',\n",
       "       'Working day on weekend', 'Common local holiday',\n",
       "       'Observance, Christian', 'Silent Day',\n",
       "       'Christian, Common local holiday', 'Observance, Hebrew',\n",
       "       'Observance, Muslim', 'Local holiday',\n",
       "       'Silent Day, public holiday', 'Restricted Holiday',\n",
       "       'Gazetted Holiday', 'Observance, Hinduism', 'Hindu Holiday',\n",
       "       'Joint Holiday', 'Bank holiday', 'Federal Territory Holiday',\n",
       "       'Federal Public Holiday', 'Holiday Postponed',\n",
       "       'Local Bank Holiday', 'Local observance', 'State holiday',\n",
       "       'State Observation', 'State Legal Holiday',\n",
       "       'State Government Holiday', 'COVID-19 Lockdown', 'Federal Holiday',\n",
       "       'Half Day'], dtype=object)"
      ]
     },
     "execution_count": 838,
     "metadata": {},
     "output_type": "execute_result"
    }
   ],
   "source": [
    "df.Type.unique()"
   ]
  },
  {
   "cell_type": "code",
   "execution_count": 972,
   "id": "numerical-aircraft",
   "metadata": {
    "scrolled": true
   },
   "outputs": [],
   "source": [
    "def get_holiday_patches():\n",
    "    patches = []\n",
    "    for i in range(dfchina.shape[0]):\n",
    "        if dfchina.loc[i].Holiday == 1:\n",
    "            patch = dfchina.loc[i-10:i+10].reset_index().drop(columns=['index'])\n",
    "            patches.append(patch)\n",
    "            try:\n",
    "                print(pd.merge(patch, patches[-1], 'inner').shape[0])\n",
    "                if pd.merge(patch, patches[-1], 'inner').shape[0] >= 16:\n",
    "                    patches.remove(patch)\n",
    "                    print('removed')\n",
    "            except Exception as ex:\n",
    "                print(ex)\n",
    "                pass\n",
    "    return patches"
   ]
  },
  {
   "cell_type": "code",
   "execution_count": 994,
   "id": "hearing-pierce",
   "metadata": {
    "scrolled": true
   },
   "outputs": [],
   "source": [
    "def get_holiday_patches():\n",
    "    patches = []\n",
    "    first_iter = True\n",
    "    for i in range(dfchina.shape[0]):\n",
    "        if dfchina.loc[i].Holiday == 1:\n",
    "            patch = dfchina.loc[i-10:i+10].reset_index().drop(columns=['index'])\n",
    "            \n",
    "            if not first_iter and pd.merge(patch, prev_patch, 'inner').shape[0] >= 15:\n",
    "                patches.append(patch)\n",
    "                \n",
    "                continue\n",
    "                \n",
    "            first_iter = False\n",
    "            prev_patch = patch\n",
    "\n",
    "    return patches"
   ]
  },
  {
   "cell_type": "code",
   "execution_count": 5,
   "id": "instrumental-effectiveness",
   "metadata": {},
   "outputs": [],
   "source": [
    "dfchina = df[df.Country==\"China\"]"
   ]
  },
  {
   "cell_type": "code",
   "execution_count": 35,
   "id": "caring-river",
   "metadata": {
    "scrolled": true
   },
   "outputs": [],
   "source": [
    "indxs = np.array(dfchina[dfchina.Holiday==1].index) "
   ]
  },
  {
   "cell_type": "code",
   "execution_count": 36,
   "id": "dying-meeting",
   "metadata": {
    "scrolled": true
   },
   "outputs": [],
   "source": [
    "indices = [] \n",
    "for i in range(len(indxs)): \n",
    "    if i != len(indxs)-1 and indxs[i+1] - indxs[i] < 10: \n",
    "        continue \n",
    "    indices.append(indxs[i]) "
   ]
  },
  {
   "cell_type": "code",
   "execution_count": 39,
   "id": "biblical-nirvana",
   "metadata": {},
   "outputs": [],
   "source": [
    "patches = []\n",
    "for x in indices:\n",
    "    patch = df.loc[x-10:x+10].reset_index().drop(columns=['index'])\n",
    "    patches.append(patch)"
   ]
  },
  {
   "cell_type": "code",
   "execution_count": 1,
   "id": "consolidated-latest",
   "metadata": {},
   "outputs": [
    {
     "ename": "NameError",
     "evalue": "name 'pd' is not defined",
     "output_type": "error",
     "traceback": [
      "\u001b[1;31m---------------------------------------------------------------------------\u001b[0m",
      "\u001b[1;31mNameError\u001b[0m                                 Traceback (most recent call last)",
      "\u001b[1;32m<ipython-input-1-d745515d3c9d>\u001b[0m in \u001b[0;36m<module>\u001b[1;34m\u001b[0m\n\u001b[1;32m----> 1\u001b[1;33m \u001b[0mpd\u001b[0m\u001b[1;33m.\u001b[0m\u001b[0mread_html\u001b[0m\u001b[1;33m(\u001b[0m\u001b[1;34m'https://www.virustotal.com/gui/file/43175f0c9423853dcd38ee0077f1600dace535ed593d46f9f88ef3dda4e84761'\u001b[0m\u001b[1;33m)\u001b[0m\u001b[1;33m\u001b[0m\u001b[1;33m\u001b[0m\u001b[0m\n\u001b[0m",
      "\u001b[1;31mNameError\u001b[0m: name 'pd' is not defined"
     ]
    }
   ],
   "source": []
  },
  {
   "cell_type": "code",
   "execution_count": 57,
   "id": "mature-bolivia",
   "metadata": {
    "scrolled": true
   },
   "outputs": [
    {
     "data": {
      "text/plain": [
       "[1823,\n",
       " 1863,\n",
       " 1919,\n",
       " 1945,\n",
       " 1980,\n",
       " 2078,\n",
       " 2102,\n",
       " 2188,\n",
       " 2220,\n",
       " 2284,\n",
       " 2313,\n",
       " 2366,\n",
       " 2469,\n",
       " 2556,\n",
       " 2593,\n",
       " 2636,\n",
       " 2662,\n",
       " 2694,\n",
       " 2758]"
      ]
     },
     "execution_count": 57,
     "metadata": {},
     "output_type": "execute_result"
    }
   ],
   "source": [
    "indices"
   ]
  },
  {
   "cell_type": "code",
   "execution_count": 59,
   "id": "statutory-canadian",
   "metadata": {},
   "outputs": [],
   "source": [
    "def get_holiday_patches(if_get_non_holidays=False):\n",
    "    indxs = np.array(dfchina[dfchina.Holiday==1].index) \n",
    "    if if_get_non_holidays:\n",
    "        indxs = np.array(dfchina[dfchina.Holiday==0].index) \n",
    "    indices = [] \n",
    "    for i in range(len(indxs)): \n",
    "        if i != len(indxs)-1 and indxs[i+1] - indxs[i] < 10: \n",
    "            continue \n",
    "        indices.append(indxs[i])\n",
    "    patches = []\n",
    "    for x in indices:\n",
    "        patch = df.loc[x-10:x+10].reset_index().drop(columns=['index'])\n",
    "        patches.append(patch)\n",
    "    return patches"
   ]
  },
  {
   "cell_type": "code",
   "execution_count": 70,
   "id": "basic-allen",
   "metadata": {},
   "outputs": [],
   "source": [
    "indxs = np.array(dfchina[dfchina.Holiday==0].index) \n",
    "indices = [] \n",
    "for i in range(len(indxs)): \n",
    "    if i != len(indxs)-1 and indxs[i+1] - indxs[i] < 10: \n",
    "        continue \n",
    "    indices.append(indxs[i])\n",
    "patches = []\n",
    "for x in indices:\n",
    "    patch = df.loc[x-10:x+10].reset_index().drop(columns=['index'])\n",
    "    patches.append(patch)"
   ]
  },
  {
   "cell_type": "code",
   "execution_count": 71,
   "id": "hungarian-stone",
   "metadata": {},
   "outputs": [
    {
     "data": {
      "text/plain": [
       "[2210, 2772]"
      ]
     },
     "execution_count": 71,
     "metadata": {},
     "output_type": "execute_result"
    }
   ],
   "source": [
    "indices"
   ]
  },
  {
   "cell_type": "code",
   "execution_count": 69,
   "id": "racial-fortune",
   "metadata": {},
   "outputs": [
    {
     "data": {
      "text/html": [
       "<div>\n",
       "<style scoped>\n",
       "    .dataframe tbody tr th:only-of-type {\n",
       "        vertical-align: middle;\n",
       "    }\n",
       "\n",
       "    .dataframe tbody tr th {\n",
       "        vertical-align: top;\n",
       "    }\n",
       "\n",
       "    .dataframe thead th {\n",
       "        text-align: right;\n",
       "    }\n",
       "</style>\n",
       "<table border=\"1\" class=\"dataframe\">\n",
       "  <thead>\n",
       "    <tr style=\"text-align: right;\">\n",
       "      <th></th>\n",
       "      <th>Consumption</th>\n",
       "      <th>Country</th>\n",
       "      <th>Date</th>\n",
       "      <th>Holiday</th>\n",
       "      <th>Name</th>\n",
       "      <th>Type</th>\n",
       "      <th>Details</th>\n",
       "      <th>Year</th>\n",
       "      <th>Date_</th>\n",
       "      <th>WeekDay</th>\n",
       "    </tr>\n",
       "  </thead>\n",
       "  <tbody>\n",
       "    <tr>\n",
       "      <th>0</th>\n",
       "      <td>44686.504857</td>\n",
       "      <td>China</td>\n",
       "      <td>2021-11-04</td>\n",
       "      <td>0</td>\n",
       "      <td>NaN</td>\n",
       "      <td>NaN</td>\n",
       "      <td>NaN</td>\n",
       "      <td>NaN</td>\n",
       "      <td>NaN</td>\n",
       "      <td>Thursday</td>\n",
       "    </tr>\n",
       "    <tr>\n",
       "      <th>1</th>\n",
       "      <td>60497.327429</td>\n",
       "      <td>China</td>\n",
       "      <td>2021-11-05</td>\n",
       "      <td>0</td>\n",
       "      <td>NaN</td>\n",
       "      <td>NaN</td>\n",
       "      <td>NaN</td>\n",
       "      <td>NaN</td>\n",
       "      <td>NaN</td>\n",
       "      <td>Friday</td>\n",
       "    </tr>\n",
       "    <tr>\n",
       "      <th>2</th>\n",
       "      <td>59481.243143</td>\n",
       "      <td>China</td>\n",
       "      <td>2021-11-06</td>\n",
       "      <td>0</td>\n",
       "      <td>NaN</td>\n",
       "      <td>NaN</td>\n",
       "      <td>NaN</td>\n",
       "      <td>NaN</td>\n",
       "      <td>NaN</td>\n",
       "      <td>Saturday</td>\n",
       "    </tr>\n",
       "    <tr>\n",
       "      <th>3</th>\n",
       "      <td>53673.480143</td>\n",
       "      <td>China</td>\n",
       "      <td>2021-11-07</td>\n",
       "      <td>0</td>\n",
       "      <td>NaN</td>\n",
       "      <td>NaN</td>\n",
       "      <td>NaN</td>\n",
       "      <td>NaN</td>\n",
       "      <td>NaN</td>\n",
       "      <td>Sunday</td>\n",
       "    </tr>\n",
       "    <tr>\n",
       "      <th>4</th>\n",
       "      <td>48024.630000</td>\n",
       "      <td>China</td>\n",
       "      <td>2021-12-01</td>\n",
       "      <td>0</td>\n",
       "      <td>NaN</td>\n",
       "      <td>NaN</td>\n",
       "      <td>NaN</td>\n",
       "      <td>NaN</td>\n",
       "      <td>NaN</td>\n",
       "      <td>Wednesday</td>\n",
       "    </tr>\n",
       "    <tr>\n",
       "      <th>5</th>\n",
       "      <td>35906.851143</td>\n",
       "      <td>China</td>\n",
       "      <td>2021-12-02</td>\n",
       "      <td>0</td>\n",
       "      <td>NaN</td>\n",
       "      <td>NaN</td>\n",
       "      <td>NaN</td>\n",
       "      <td>NaN</td>\n",
       "      <td>NaN</td>\n",
       "      <td>Thursday</td>\n",
       "    </tr>\n",
       "    <tr>\n",
       "      <th>6</th>\n",
       "      <td>62013.924857</td>\n",
       "      <td>China</td>\n",
       "      <td>2021-12-03</td>\n",
       "      <td>0</td>\n",
       "      <td>NaN</td>\n",
       "      <td>NaN</td>\n",
       "      <td>NaN</td>\n",
       "      <td>NaN</td>\n",
       "      <td>NaN</td>\n",
       "      <td>Friday</td>\n",
       "    </tr>\n",
       "    <tr>\n",
       "      <th>7</th>\n",
       "      <td>32615.427143</td>\n",
       "      <td>China</td>\n",
       "      <td>2021-12-04</td>\n",
       "      <td>0</td>\n",
       "      <td>NaN</td>\n",
       "      <td>NaN</td>\n",
       "      <td>NaN</td>\n",
       "      <td>NaN</td>\n",
       "      <td>NaN</td>\n",
       "      <td>Saturday</td>\n",
       "    </tr>\n",
       "    <tr>\n",
       "      <th>8</th>\n",
       "      <td>89189.797000</td>\n",
       "      <td>China</td>\n",
       "      <td>2021-12-05</td>\n",
       "      <td>0</td>\n",
       "      <td>NaN</td>\n",
       "      <td>NaN</td>\n",
       "      <td>NaN</td>\n",
       "      <td>NaN</td>\n",
       "      <td>NaN</td>\n",
       "      <td>Sunday</td>\n",
       "    </tr>\n",
       "    <tr>\n",
       "      <th>9</th>\n",
       "      <td>82921.637429</td>\n",
       "      <td>China</td>\n",
       "      <td>2021-12-06</td>\n",
       "      <td>0</td>\n",
       "      <td>NaN</td>\n",
       "      <td>NaN</td>\n",
       "      <td>NaN</td>\n",
       "      <td>NaN</td>\n",
       "      <td>NaN</td>\n",
       "      <td>Monday</td>\n",
       "    </tr>\n",
       "    <tr>\n",
       "      <th>10</th>\n",
       "      <td>48987.341429</td>\n",
       "      <td>China</td>\n",
       "      <td>2021-12-07</td>\n",
       "      <td>0</td>\n",
       "      <td>NaN</td>\n",
       "      <td>NaN</td>\n",
       "      <td>NaN</td>\n",
       "      <td>NaN</td>\n",
       "      <td>NaN</td>\n",
       "      <td>Tuesday</td>\n",
       "    </tr>\n",
       "    <tr>\n",
       "      <th>11</th>\n",
       "      <td>9824.052429</td>\n",
       "      <td>Germany</td>\n",
       "      <td>2019-01-01</td>\n",
       "      <td>0</td>\n",
       "      <td>NaN</td>\n",
       "      <td>NaN</td>\n",
       "      <td>NaN</td>\n",
       "      <td>NaN</td>\n",
       "      <td>NaN</td>\n",
       "      <td>Tuesday</td>\n",
       "    </tr>\n",
       "    <tr>\n",
       "      <th>12</th>\n",
       "      <td>13427.490000</td>\n",
       "      <td>Germany</td>\n",
       "      <td>2019-01-02</td>\n",
       "      <td>0</td>\n",
       "      <td>NaN</td>\n",
       "      <td>NaN</td>\n",
       "      <td>NaN</td>\n",
       "      <td>NaN</td>\n",
       "      <td>NaN</td>\n",
       "      <td>Wednesday</td>\n",
       "    </tr>\n",
       "    <tr>\n",
       "      <th>13</th>\n",
       "      <td>8990.124286</td>\n",
       "      <td>Germany</td>\n",
       "      <td>2019-01-03</td>\n",
       "      <td>0</td>\n",
       "      <td>NaN</td>\n",
       "      <td>NaN</td>\n",
       "      <td>NaN</td>\n",
       "      <td>NaN</td>\n",
       "      <td>NaN</td>\n",
       "      <td>Thursday</td>\n",
       "    </tr>\n",
       "    <tr>\n",
       "      <th>14</th>\n",
       "      <td>6000.547143</td>\n",
       "      <td>Germany</td>\n",
       "      <td>2019-01-04</td>\n",
       "      <td>0</td>\n",
       "      <td>NaN</td>\n",
       "      <td>NaN</td>\n",
       "      <td>NaN</td>\n",
       "      <td>NaN</td>\n",
       "      <td>NaN</td>\n",
       "      <td>Friday</td>\n",
       "    </tr>\n",
       "    <tr>\n",
       "      <th>15</th>\n",
       "      <td>33160.862429</td>\n",
       "      <td>Germany</td>\n",
       "      <td>2019-01-05</td>\n",
       "      <td>0</td>\n",
       "      <td>NaN</td>\n",
       "      <td>NaN</td>\n",
       "      <td>NaN</td>\n",
       "      <td>NaN</td>\n",
       "      <td>NaN</td>\n",
       "      <td>Saturday</td>\n",
       "    </tr>\n",
       "    <tr>\n",
       "      <th>16</th>\n",
       "      <td>44235.790000</td>\n",
       "      <td>Germany</td>\n",
       "      <td>2019-01-06</td>\n",
       "      <td>0</td>\n",
       "      <td>Epiphany</td>\n",
       "      <td>Common local holiday</td>\n",
       "      <td>BW, BY, ST</td>\n",
       "      <td>2019.0</td>\n",
       "      <td>6 Jan</td>\n",
       "      <td>Sunday</td>\n",
       "    </tr>\n",
       "    <tr>\n",
       "      <th>17</th>\n",
       "      <td>7189.935714</td>\n",
       "      <td>Germany</td>\n",
       "      <td>2019-01-07</td>\n",
       "      <td>0</td>\n",
       "      <td>NaN</td>\n",
       "      <td>NaN</td>\n",
       "      <td>NaN</td>\n",
       "      <td>NaN</td>\n",
       "      <td>NaN</td>\n",
       "      <td>Monday</td>\n",
       "    </tr>\n",
       "    <tr>\n",
       "      <th>18</th>\n",
       "      <td>22060.381429</td>\n",
       "      <td>Germany</td>\n",
       "      <td>2019-01-08</td>\n",
       "      <td>0</td>\n",
       "      <td>NaN</td>\n",
       "      <td>NaN</td>\n",
       "      <td>NaN</td>\n",
       "      <td>NaN</td>\n",
       "      <td>NaN</td>\n",
       "      <td>Tuesday</td>\n",
       "    </tr>\n",
       "    <tr>\n",
       "      <th>19</th>\n",
       "      <td>31658.805429</td>\n",
       "      <td>Germany</td>\n",
       "      <td>2019-01-09</td>\n",
       "      <td>0</td>\n",
       "      <td>NaN</td>\n",
       "      <td>NaN</td>\n",
       "      <td>NaN</td>\n",
       "      <td>NaN</td>\n",
       "      <td>NaN</td>\n",
       "      <td>Wednesday</td>\n",
       "    </tr>\n",
       "    <tr>\n",
       "      <th>20</th>\n",
       "      <td>14573.091571</td>\n",
       "      <td>Germany</td>\n",
       "      <td>2019-01-10</td>\n",
       "      <td>0</td>\n",
       "      <td>NaN</td>\n",
       "      <td>NaN</td>\n",
       "      <td>NaN</td>\n",
       "      <td>NaN</td>\n",
       "      <td>NaN</td>\n",
       "      <td>Thursday</td>\n",
       "    </tr>\n",
       "  </tbody>\n",
       "</table>\n",
       "</div>"
      ],
      "text/plain": [
       "     Consumption  Country       Date  Holiday      Name                  Type  \\\n",
       "0   44686.504857    China 2021-11-04        0       NaN                   NaN   \n",
       "1   60497.327429    China 2021-11-05        0       NaN                   NaN   \n",
       "2   59481.243143    China 2021-11-06        0       NaN                   NaN   \n",
       "3   53673.480143    China 2021-11-07        0       NaN                   NaN   \n",
       "4   48024.630000    China 2021-12-01        0       NaN                   NaN   \n",
       "5   35906.851143    China 2021-12-02        0       NaN                   NaN   \n",
       "6   62013.924857    China 2021-12-03        0       NaN                   NaN   \n",
       "7   32615.427143    China 2021-12-04        0       NaN                   NaN   \n",
       "8   89189.797000    China 2021-12-05        0       NaN                   NaN   \n",
       "9   82921.637429    China 2021-12-06        0       NaN                   NaN   \n",
       "10  48987.341429    China 2021-12-07        0       NaN                   NaN   \n",
       "11   9824.052429  Germany 2019-01-01        0       NaN                   NaN   \n",
       "12  13427.490000  Germany 2019-01-02        0       NaN                   NaN   \n",
       "13   8990.124286  Germany 2019-01-03        0       NaN                   NaN   \n",
       "14   6000.547143  Germany 2019-01-04        0       NaN                   NaN   \n",
       "15  33160.862429  Germany 2019-01-05        0       NaN                   NaN   \n",
       "16  44235.790000  Germany 2019-01-06        0  Epiphany  Common local holiday   \n",
       "17   7189.935714  Germany 2019-01-07        0       NaN                   NaN   \n",
       "18  22060.381429  Germany 2019-01-08        0       NaN                   NaN   \n",
       "19  31658.805429  Germany 2019-01-09        0       NaN                   NaN   \n",
       "20  14573.091571  Germany 2019-01-10        0       NaN                   NaN   \n",
       "\n",
       "       Details    Year  Date_    WeekDay  \n",
       "0          NaN     NaN    NaN   Thursday  \n",
       "1          NaN     NaN    NaN     Friday  \n",
       "2          NaN     NaN    NaN   Saturday  \n",
       "3          NaN     NaN    NaN     Sunday  \n",
       "4          NaN     NaN    NaN  Wednesday  \n",
       "5          NaN     NaN    NaN   Thursday  \n",
       "6          NaN     NaN    NaN     Friday  \n",
       "7          NaN     NaN    NaN   Saturday  \n",
       "8          NaN     NaN    NaN     Sunday  \n",
       "9          NaN     NaN    NaN     Monday  \n",
       "10         NaN     NaN    NaN    Tuesday  \n",
       "11         NaN     NaN    NaN    Tuesday  \n",
       "12         NaN     NaN    NaN  Wednesday  \n",
       "13         NaN     NaN    NaN   Thursday  \n",
       "14         NaN     NaN    NaN     Friday  \n",
       "15         NaN     NaN    NaN   Saturday  \n",
       "16  BW, BY, ST  2019.0  6 Jan     Sunday  \n",
       "17         NaN     NaN    NaN     Monday  \n",
       "18         NaN     NaN    NaN    Tuesday  \n",
       "19         NaN     NaN    NaN  Wednesday  \n",
       "20         NaN     NaN    NaN   Thursday  "
      ]
     },
     "execution_count": 69,
     "metadata": {},
     "output_type": "execute_result"
    }
   ],
   "source": [
    "get_holiday_patches(True)[1]"
   ]
  },
  {
   "cell_type": "code",
   "execution_count": 55,
   "id": "stable-thesis",
   "metadata": {},
   "outputs": [
    {
     "data": {
      "text/plain": [
       "[<matplotlib.lines.Line2D at 0x19b7c548c50>]"
      ]
     },
     "execution_count": 55,
     "metadata": {},
     "output_type": "execute_result"
    },
    {
     "data": {
      "image/png": "[encoded data removed]",
      "text/plain": [
       "<Figure size 432x288 with 1 Axes>"
      ]
     },
     "metadata": {
      "needs_background": "light"
     },
     "output_type": "display_data"
    }
   ],
   "source": [
    "plt.plot([x.Consumption.std() for x in patches], \"o\") \n"
   ]
  },
  {
   "cell_type": "code",
   "execution_count": null,
   "id": "affected-sense",
   "metadata": {},
   "outputs": [],
   "source": []
  },
  {
   "cell_type": "code",
   "execution_count": null,
   "id": "collect-introduction",
   "metadata": {},
   "outputs": [],
   "source": []
  },
  {
   "cell_type": "code",
   "execution_count": null,
   "id": "unnecessary-moscow",
   "metadata": {},
   "outputs": [],
   "source": []
  }
 ],
 "metadata": {
  "kernelspec": {
   "display_name": "Python 3",
   "language": "python",
   "name": "python3"
  },
  "language_info": {
   "codemirror_mode": {
    "name": "ipython",
    "version": 3
   },
   "file_extension": ".py",
   "mimetype": "text/x-python",
   "name": "python",
   "nbconvert_exporter": "python",
   "pygments_lexer": "ipython3",
   "version": "3.7.3"
  }
 },
 "nbformat": 4,
 "nbformat_minor": 5
}
